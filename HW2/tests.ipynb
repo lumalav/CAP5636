{
 "cells": [
  {
   "cell_type": "code",
   "execution_count": 5,
   "metadata": {
    "tags": []
   },
   "outputs": [
    {
     "output_type": "stream",
     "name": "stdout",
     "text": "Starting on 11-9 at 13:49:06\n\nQuestion q1\n===========\n\n*** PASS: test_cases\\q1\\1-tinygrid.test\n*** PASS: test_cases\\q1\\2-tinygrid-noisy.test\n*** PASS: test_cases\\q1\\3-bridge.test\n*** PASS: test_cases\\q1\\4-discountgrid.test\n\n### Question q1: 6/6 ###\n\n\nFinished at 13:49:07\n\nProvisional grades\n==================\nQuestion q1: 6/6\n------------------\nTotal: 6/6\n\nYour grades are NOT yet registered.  To register your grades, make sure\nto follow your instructor's guidelines to receive credit on your project.\n\n"
    }
   ],
   "source": [
    "#TESTS FOR Q1\n",
    "%run autograder.py -q q1"
   ]
  },
  {
   "cell_type": "code",
   "execution_count": 6,
   "metadata": {
    "tags": []
   },
   "outputs": [
    {
     "output_type": "stream",
     "name": "stdout",
     "text": "Starting on 11-9 at 13:49:07\n\nQuestion q2\n===========\n\n*** PASS: test_cases\\q2\\1-bridge-grid.test\n\n### Question q2: 1/1 ###\n\n\nFinished at 13:49:07\n\nProvisional grades\n==================\nQuestion q2: 1/1\n------------------\nTotal: 1/1\n\nYour grades are NOT yet registered.  To register your grades, make sure\nto follow your instructor's guidelines to receive credit on your project.\n\n"
    }
   ],
   "source": [
    "#TESTS FOR Q2\n",
    "%run autograder.py -q q2"
   ]
  },
  {
   "cell_type": "code",
   "execution_count": 7,
   "metadata": {
    "tags": []
   },
   "outputs": [
    {
     "output_type": "stream",
     "name": "stdout",
     "text": "Starting on 11-9 at 13:49:07\n\nQuestion q3\n===========\n\n*** PASS: test_cases\\q3\\1-question-3.1.test\n*** PASS: test_cases\\q3\\2-question-3.2.test\n*** PASS: test_cases\\q3\\3-question-3.3.test\n*** PASS: test_cases\\q3\\4-question-3.4.test\n*** PASS: test_cases\\q3\\5-question-3.5.test\n\n### Question q3: 5/5 ###\n\n\nFinished at 13:49:08\n\nProvisional grades\n==================\nQuestion q3: 5/5\n------------------\nTotal: 5/5\n\nYour grades are NOT yet registered.  To register your grades, make sure\nto follow your instructor's guidelines to receive credit on your project.\n\n"
    }
   ],
   "source": [
    "#TESTS FOR Q3\n",
    "%run autograder.py -q q3"
   ]
  },
  {
   "cell_type": "code",
   "execution_count": 8,
   "metadata": {
    "tags": []
   },
   "outputs": [
    {
     "output_type": "stream",
     "name": "stdout",
     "text": "Starting on 11-9 at 13:49:08\n\nQuestion q4\n===========\n\n*** PASS: test_cases\\q4\\1-tinygrid.test\n*** PASS: test_cases\\q4\\2-tinygrid-noisy.test\n*** PASS: test_cases\\q4\\3-bridge.test\n*** PASS: test_cases\\q4\\4-discountgrid.test\n\n### Question q4: 5/5 ###\n\n\nFinished at 13:49:08\n\nProvisional grades\n==================\nQuestion q4: 5/5\n------------------\nTotal: 5/5\n\nYour grades are NOT yet registered.  To register your grades, make sure\nto follow your instructor's guidelines to receive credit on your project.\n\n"
    }
   ],
   "source": [
    "#TESTS FOR Q4\n",
    "%run autograder.py -q q4"
   ]
  }
 ],
 "metadata": {
  "language_info": {
   "codemirror_mode": {
    "name": "ipython",
    "version": 3
   },
   "file_extension": ".py",
   "mimetype": "text/x-python",
   "name": "python",
   "nbconvert_exporter": "python",
   "pygments_lexer": "ipython3",
   "version": "2.7.16-final"
  },
  "orig_nbformat": 2,
  "kernelspec": {
   "name": "python271664bitpy27conda7c4ce06b248d4252a6dcd2cfcc536dfb",
   "display_name": "Python 2.7.16 64-bit ('py27': conda)"
  }
 },
 "nbformat": 4,
 "nbformat_minor": 2
}